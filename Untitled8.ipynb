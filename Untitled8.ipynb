{
  "nbformat": 4,
  "nbformat_minor": 0,
  "metadata": {
    "colab": {
      "name": "Untitled8.ipynb",
      "provenance": [],
      "authorship_tag": "ABX9TyM+Rinu7zDjaOiyjCPSNzLu",
      "include_colab_link": true
    },
    "kernelspec": {
      "name": "python3",
      "display_name": "Python 3"
    }
  },
  "cells": [
    {
      "cell_type": "markdown",
      "metadata": {
        "id": "view-in-github",
        "colab_type": "text"
      },
      "source": [
        "<a href=\"https://colab.research.google.com/github/Sowndarya-nukala3/Assignment-5/blob/master/Untitled8.ipynb\" target=\"_parent\"><img src=\"https://colab.research.google.com/assets/colab-badge.svg\" alt=\"Open In Colab\"/></a>"
      ]
    },
    {
      "cell_type": "code",
      "metadata": {
        "id": "DDUWEkVY8RF1",
        "colab_type": "code",
        "colab": {
          "base_uri": "https://localhost:8080/",
          "height": 34
        },
        "outputId": "bbc1618e-9fd9-436b-ba3c-4b25abf6388d"
      },
      "source": [
        "# Write a python program to calculate the length of a string.\n",
        "str = \"im waiting for your reply\"\n",
        "print(len(str))"
      ],
      "execution_count": 1,
      "outputs": [
        {
          "output_type": "stream",
          "text": [
            "25\n"
          ],
          "name": "stdout"
        }
      ]
    },
    {
      "cell_type": "code",
      "metadata": {
        "id": "GFF1R_eX8SQw",
        "colab_type": "code",
        "colab": {
          "base_uri": "https://localhost:8080/",
          "height": 34
        },
        "outputId": "adb95395-f283-497c-df07-7eb4a65733d5"
      },
      "source": [
        "# write a python program to count the number of character(character frequency) in a string.\n",
        "def char_frequency(str1):\n",
        "    dict = {}\n",
        "    for n in str1:\n",
        "        keys = dict.keys()\n",
        "        if n in keys:\n",
        "            dict[n] += 1\n",
        "        else:\n",
        "            dict[n] = 1\n",
        "    return dict \n",
        "print(char_frequency('mydemo.com'))"
      ],
      "execution_count": 2,
      "outputs": [
        {
          "output_type": "stream",
          "text": [
            "{'m': 3, 'y': 1, 'd': 1, 'e': 1, 'o': 2, '.': 1, 'c': 1}\n"
          ],
          "name": "stdout"
        }
      ]
    },
    {
      "cell_type": "code",
      "metadata": {
        "id": "i1l6bG5L8Yj1",
        "colab_type": "code",
        "colab": {
          "base_uri": "https://localhost:8080/",
          "height": 34
        },
        "outputId": "f03958ce-e560-4795-a7ce-50d7afbc55e2"
      },
      "source": [
        "# Write a python program to get a single string from two given strings seperated by a space and swap the first two characters of each string.\n",
        "def chars_mis_up(a,b):\n",
        "    new_a = b[:2] + a[:2]\n",
        "    new_b = a[:2] + b[:2]\n",
        "    return new_a + ' ' + new_b\n",
        "print(chars_mis_up('nani', 'chinni'))"
      ],
      "execution_count": 3,
      "outputs": [
        {
          "output_type": "stream",
          "text": [
            "chna nach\n"
          ],
          "name": "stdout"
        }
      ]
    },
    {
      "cell_type": "code",
      "metadata": {
        "id": "w6HwH4lZ8ZgV",
        "colab_type": "code",
        "colab": {
          "base_uri": "https://localhost:8080/",
          "height": 67
        },
        "outputId": "59cba657-32de-4234-e231-81699d33f591"
      },
      "source": [
        "# write a python script that takes input from the user and displays that input back in upper and lower cases.\n",
        "user_input = input(\"What's your favourite language? \")\n",
        "print(\"My favourite language is \", user_input.upper())\n",
        "print(\"My favourite language is \", user_input.lower())"
      ],
      "execution_count": 4,
      "outputs": [
        {
          "output_type": "stream",
          "text": [
            "What's your favourite language? math\n",
            "My favourite language is  MATH\n",
            "My favourite language is  math\n"
          ],
          "name": "stdout"
        }
      ]
    },
    {
      "cell_type": "code",
      "metadata": {
        "id": "-e3T12fQ89Tk",
        "colab_type": "code",
        "colab": {
          "base_uri": "https://localhost:8080/",
          "height": 67
        },
        "outputId": "de1f3476-1f02-4179-92ff-68c7cbb4827a"
      },
      "source": [
        "# Write a python program to remove a newline in python.\n",
        "str1='python\\n'\n",
        "print(str1)\n",
        "print(str1.rstrip())"
      ],
      "execution_count": 5,
      "outputs": [
        {
          "output_type": "stream",
          "text": [
            "python\n",
            "\n",
            "python\n"
          ],
          "name": "stdout"
        }
      ]
    },
    {
      "cell_type": "code",
      "metadata": {
        "id": "H68OCAOw8_YV",
        "colab_type": "code",
        "colab": {
          "base_uri": "https://localhost:8080/",
          "height": 50
        },
        "outputId": "83330d24-0ab2-4fd7-e6e3-ecaecb748cf1"
      },
      "source": [
        "# Write a python program to count occurances of a substring in a string.\n",
        "str1 = \"He is damn rock hearted soul\"\n",
        "print(str1)\n",
        "print(str1.count('a'))"
      ],
      "execution_count": 6,
      "outputs": [
        {
          "output_type": "stream",
          "text": [
            "He is damn rock hearted soul\n",
            "2\n"
          ],
          "name": "stdout"
        }
      ]
    },
    {
      "cell_type": "code",
      "metadata": {
        "id": "WiMeqZ6U9BZ9",
        "colab_type": "code",
        "colab": {
          "base_uri": "https://localhost:8080/",
          "height": 34
        },
        "outputId": "ca27841f-6bce-47b4-9da8-b37fb990d1af"
      },
      "source": [
        "# Write a python program to convert a string in a list\n",
        "def convert(string):\n",
        "    li = list(string.split(\" \"))\n",
        "    return li\n",
        "str1 = \"Im just kidding !\"\n",
        "print(convert(str1))"
      ],
      "execution_count": 7,
      "outputs": [
        {
          "output_type": "stream",
          "text": [
            "['Im', 'just', 'kidding', '!']\n"
          ],
          "name": "stdout"
        }
      ]
    },
    {
      "cell_type": "code",
      "metadata": {
        "id": "CEipOhRV9DU2",
        "colab_type": "code",
        "colab": {
          "base_uri": "https://localhost:8080/",
          "height": 34
        },
        "outputId": "80b8ec2e-ba50-4db2-f2d4-8cd1818fc574"
      },
      "source": [
        "# Write a python progarm to perform deletion of a character\n",
        "def remove(string, i):\n",
        "    a = string[ : i]\n",
        "    b = string[i + 1: ]\n",
        "    return a + b\n",
        "if __name__ == '__main__':\n",
        "    string = \"python assignment\"\n",
        "    i = 9\n",
        "    print(remove(string, i))"
      ],
      "execution_count": 8,
      "outputs": [
        {
          "output_type": "stream",
          "text": [
            "python asignment\n"
          ],
          "name": "stdout"
        }
      ]
    },
    {
      "cell_type": "code",
      "metadata": {
        "id": "qKFrcmTd9Fj1",
        "colab_type": "code",
        "colab": {
          "base_uri": "https://localhost:8080/",
          "height": 218
        },
        "outputId": "c23b622c-aed7-4c66-9b05-faad38c6b842"
      },
      "source": [
        "# Write a python program to print every character of a string enetered by user in a new line using loop.\n",
        "word='Good Morning'\n",
        "for index,letter in enumerate(word,1):\n",
        "    print(index,\":\",letter)"
      ],
      "execution_count": 9,
      "outputs": [
        {
          "output_type": "stream",
          "text": [
            "1 : G\n",
            "2 : o\n",
            "3 : o\n",
            "4 : d\n",
            "5 :  \n",
            "6 : M\n",
            "7 : o\n",
            "8 : r\n",
            "9 : n\n",
            "10 : i\n",
            "11 : n\n",
            "12 : g\n"
          ],
          "name": "stdout"
        }
      ]
    },
    {
      "cell_type": "code",
      "metadata": {
        "id": "gqOssj65BR0r",
        "colab_type": "code",
        "colab": {
          "base_uri": "https://localhost:8080/",
          "height": 34
        },
        "outputId": "ad8f3510-bee9-4af4-ba69-0a6f4932f61f"
      },
      "source": [
        "# write a python program to find the length of a string \"refrigerator\" without using len fuction.\n",
        "a = \"refrigerator\" \n",
        "count = 0 \n",
        "for i in a:\n",
        "   count = count+1 \n",
        "print (count)  "
      ],
      "execution_count": 10,
      "outputs": [
        {
          "output_type": "stream",
          "text": [
            "12\n"
          ],
          "name": "stdout"
        }
      ]
    }
  ]
}